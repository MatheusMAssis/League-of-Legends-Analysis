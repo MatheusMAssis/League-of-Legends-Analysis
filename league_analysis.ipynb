{
 "cells": [
  {
   "cell_type": "markdown",
   "metadata": {},
   "source": [
    "# League of Legends Ranked Analysis"
   ]
  },
  {
   "cell_type": "markdown",
   "metadata": {},
   "source": [
    "### Importing libraries"
   ]
  },
  {
   "cell_type": "code",
   "execution_count": 256,
   "metadata": {},
   "outputs": [],
   "source": [
    "import numpy as np\n",
    "import pandas as pd\n",
    "import seaborn as sns\n",
    "import matplotlib.pyplot as plt\n",
    "import matplotlib as mpl\n",
    "\n",
    "plt.style.use('ggplot')"
   ]
  },
  {
   "cell_type": "markdown",
   "metadata": {},
   "source": [
    "### Retrieving data"
   ]
  },
  {
   "cell_type": "code",
   "execution_count": 205,
   "metadata": {},
   "outputs": [],
   "source": [
    "main_df = pd.read_csv(\"season10_data.csv\", index_col=0)"
   ]
  },
  {
   "cell_type": "code",
   "execution_count": 206,
   "metadata": {},
   "outputs": [
    {
     "name": "stdout",
     "output_type": "stream",
     "text": [
      "<class 'pandas.core.frame.DataFrame'>\n",
      "Int64Index: 817 entries, 0 to 816\n",
      "Data columns (total 14 columns):\n",
      " #   Column              Non-Null Count  Dtype  \n",
      "---  ------              --------------  -----  \n",
      " 0   match_date          817 non-null    object \n",
      " 1   match_map           817 non-null    object \n",
      " 2   match_mode          614 non-null    object \n",
      " 3   match_duration      817 non-null    float64\n",
      " 4   match_result        817 non-null    object \n",
      " 5   champ_name          817 non-null    object \n",
      " 6   champ_kills         817 non-null    int64  \n",
      " 7   champ_deaths        817 non-null    int64  \n",
      " 8   champ_assists       817 non-null    int64  \n",
      " 9   champ_farm          817 non-null    int64  \n",
      " 10  champ_gold          817 non-null    int64  \n",
      " 11  champ_level         817 non-null    int64  \n",
      " 12  champ_first_spell   817 non-null    object \n",
      " 13  champ_second_spell  817 non-null    object \n",
      "dtypes: float64(1), int64(6), object(7)\n",
      "memory usage: 95.7+ KB\n"
     ]
    }
   ],
   "source": [
    "main_df.info()"
   ]
  },
  {
   "cell_type": "code",
   "execution_count": 207,
   "metadata": {},
   "outputs": [],
   "source": [
    "main_df.match_date = pd.to_datetime(main_df.match_date)"
   ]
  },
  {
   "cell_type": "code",
   "execution_count": 208,
   "metadata": {},
   "outputs": [
    {
     "data": {
      "text/html": [
       "<div>\n",
       "<style scoped>\n",
       "    .dataframe tbody tr th:only-of-type {\n",
       "        vertical-align: middle;\n",
       "    }\n",
       "\n",
       "    .dataframe tbody tr th {\n",
       "        vertical-align: top;\n",
       "    }\n",
       "\n",
       "    .dataframe thead th {\n",
       "        text-align: right;\n",
       "    }\n",
       "</style>\n",
       "<table border=\"1\" class=\"dataframe\">\n",
       "  <thead>\n",
       "    <tr style=\"text-align: right;\">\n",
       "      <th></th>\n",
       "      <th>match_date</th>\n",
       "      <th>match_map</th>\n",
       "      <th>match_mode</th>\n",
       "      <th>match_duration</th>\n",
       "      <th>match_result</th>\n",
       "      <th>champ_name</th>\n",
       "      <th>champ_kills</th>\n",
       "      <th>champ_deaths</th>\n",
       "      <th>champ_assists</th>\n",
       "      <th>champ_farm</th>\n",
       "      <th>champ_gold</th>\n",
       "      <th>champ_level</th>\n",
       "      <th>champ_first_spell</th>\n",
       "      <th>champ_second_spell</th>\n",
       "    </tr>\n",
       "  </thead>\n",
       "  <tbody>\n",
       "    <tr>\n",
       "      <th>0</th>\n",
       "      <td>2020-07-09</td>\n",
       "      <td>Summoner's Rift</td>\n",
       "      <td>Normal (Draft Mode)</td>\n",
       "      <td>36.583333</td>\n",
       "      <td>defeat</td>\n",
       "      <td>Miss Fortune</td>\n",
       "      <td>7</td>\n",
       "      <td>10</td>\n",
       "      <td>9</td>\n",
       "      <td>164</td>\n",
       "      <td>12200</td>\n",
       "      <td>15</td>\n",
       "      <td>SummonerHeal</td>\n",
       "      <td>SummonerFlash</td>\n",
       "    </tr>\n",
       "    <tr>\n",
       "      <th>1</th>\n",
       "      <td>2020-07-09</td>\n",
       "      <td>Howling Abyss</td>\n",
       "      <td>NaN</td>\n",
       "      <td>31.066667</td>\n",
       "      <td>victory</td>\n",
       "      <td>Miss Fortune</td>\n",
       "      <td>20</td>\n",
       "      <td>9</td>\n",
       "      <td>33</td>\n",
       "      <td>172</td>\n",
       "      <td>22100</td>\n",
       "      <td>18</td>\n",
       "      <td>SummonerHeal</td>\n",
       "      <td>SummonerFlash</td>\n",
       "    </tr>\n",
       "    <tr>\n",
       "      <th>2</th>\n",
       "      <td>2020-07-09</td>\n",
       "      <td>Summoner's Rift</td>\n",
       "      <td>Ranked (Draft Mode)</td>\n",
       "      <td>36.066667</td>\n",
       "      <td>victory</td>\n",
       "      <td>Xayah</td>\n",
       "      <td>12</td>\n",
       "      <td>4</td>\n",
       "      <td>4</td>\n",
       "      <td>269</td>\n",
       "      <td>17400</td>\n",
       "      <td>16</td>\n",
       "      <td>SummonerHeal</td>\n",
       "      <td>SummonerFlash</td>\n",
       "    </tr>\n",
       "    <tr>\n",
       "      <th>3</th>\n",
       "      <td>2020-07-08</td>\n",
       "      <td>Summoner's Rift</td>\n",
       "      <td>Normal (Draft Mode)</td>\n",
       "      <td>30.533333</td>\n",
       "      <td>defeat</td>\n",
       "      <td>Miss Fortune</td>\n",
       "      <td>6</td>\n",
       "      <td>6</td>\n",
       "      <td>7</td>\n",
       "      <td>188</td>\n",
       "      <td>11000</td>\n",
       "      <td>13</td>\n",
       "      <td>SummonerHeal</td>\n",
       "      <td>SummonerFlash</td>\n",
       "    </tr>\n",
       "    <tr>\n",
       "      <th>4</th>\n",
       "      <td>2020-07-08</td>\n",
       "      <td>Summoner's Rift</td>\n",
       "      <td>Normal (Draft Mode)</td>\n",
       "      <td>3.333333</td>\n",
       "      <td>earlysurrender</td>\n",
       "      <td>Xayah</td>\n",
       "      <td>0</td>\n",
       "      <td>0</td>\n",
       "      <td>1</td>\n",
       "      <td>16</td>\n",
       "      <td>1200</td>\n",
       "      <td>3</td>\n",
       "      <td>SummonerHeal</td>\n",
       "      <td>SummonerFlash</td>\n",
       "    </tr>\n",
       "  </tbody>\n",
       "</table>\n",
       "</div>"
      ],
      "text/plain": [
       "  match_date        match_map           match_mode  match_duration  \\\n",
       "0 2020-07-09  Summoner's Rift  Normal (Draft Mode)       36.583333   \n",
       "1 2020-07-09    Howling Abyss                  NaN       31.066667   \n",
       "2 2020-07-09  Summoner's Rift  Ranked (Draft Mode)       36.066667   \n",
       "3 2020-07-08  Summoner's Rift  Normal (Draft Mode)       30.533333   \n",
       "4 2020-07-08  Summoner's Rift  Normal (Draft Mode)        3.333333   \n",
       "\n",
       "     match_result    champ_name  champ_kills  champ_deaths  champ_assists  \\\n",
       "0          defeat  Miss Fortune            7            10              9   \n",
       "1         victory  Miss Fortune           20             9             33   \n",
       "2         victory         Xayah           12             4              4   \n",
       "3          defeat  Miss Fortune            6             6              7   \n",
       "4  earlysurrender         Xayah            0             0              1   \n",
       "\n",
       "   champ_farm  champ_gold  champ_level champ_first_spell champ_second_spell  \n",
       "0         164       12200           15      SummonerHeal      SummonerFlash  \n",
       "1         172       22100           18      SummonerHeal      SummonerFlash  \n",
       "2         269       17400           16      SummonerHeal      SummonerFlash  \n",
       "3         188       11000           13      SummonerHeal      SummonerFlash  \n",
       "4          16        1200            3      SummonerHeal      SummonerFlash  "
      ]
     },
     "execution_count": 208,
     "metadata": {},
     "output_type": "execute_result"
    }
   ],
   "source": [
    "main_df.head()"
   ]
  },
  {
   "cell_type": "code",
   "execution_count": 209,
   "metadata": {},
   "outputs": [
    {
     "name": "stdout",
     "output_type": "stream",
     "text": [
      "Number of matches: 817\n"
     ]
    }
   ],
   "source": [
    "print(\"Number of matches: {}\".format(len(main_df)))"
   ]
  },
  {
   "cell_type": "markdown",
   "metadata": {},
   "source": [
    "### Getting ranked matches only"
   ]
  },
  {
   "cell_type": "code",
   "execution_count": 210,
   "metadata": {},
   "outputs": [],
   "source": [
    "ranked_df = main_df[main_df.match_mode == \"Ranked (Draft Mode)\"]"
   ]
  },
  {
   "cell_type": "code",
   "execution_count": 211,
   "metadata": {},
   "outputs": [
    {
     "data": {
      "text/html": [
       "<div>\n",
       "<style scoped>\n",
       "    .dataframe tbody tr th:only-of-type {\n",
       "        vertical-align: middle;\n",
       "    }\n",
       "\n",
       "    .dataframe tbody tr th {\n",
       "        vertical-align: top;\n",
       "    }\n",
       "\n",
       "    .dataframe thead th {\n",
       "        text-align: right;\n",
       "    }\n",
       "</style>\n",
       "<table border=\"1\" class=\"dataframe\">\n",
       "  <thead>\n",
       "    <tr style=\"text-align: right;\">\n",
       "      <th></th>\n",
       "      <th>match_date</th>\n",
       "      <th>match_map</th>\n",
       "      <th>match_mode</th>\n",
       "      <th>match_duration</th>\n",
       "      <th>match_result</th>\n",
       "      <th>champ_name</th>\n",
       "      <th>champ_kills</th>\n",
       "      <th>champ_deaths</th>\n",
       "      <th>champ_assists</th>\n",
       "      <th>champ_farm</th>\n",
       "      <th>champ_gold</th>\n",
       "      <th>champ_level</th>\n",
       "      <th>champ_first_spell</th>\n",
       "      <th>champ_second_spell</th>\n",
       "    </tr>\n",
       "  </thead>\n",
       "  <tbody>\n",
       "    <tr>\n",
       "      <th>2</th>\n",
       "      <td>2020-07-09</td>\n",
       "      <td>Summoner's Rift</td>\n",
       "      <td>Ranked (Draft Mode)</td>\n",
       "      <td>36.066667</td>\n",
       "      <td>victory</td>\n",
       "      <td>Xayah</td>\n",
       "      <td>12</td>\n",
       "      <td>4</td>\n",
       "      <td>4</td>\n",
       "      <td>269</td>\n",
       "      <td>17400</td>\n",
       "      <td>16</td>\n",
       "      <td>SummonerHeal</td>\n",
       "      <td>SummonerFlash</td>\n",
       "    </tr>\n",
       "    <tr>\n",
       "      <th>14</th>\n",
       "      <td>2020-07-04</td>\n",
       "      <td>Summoner's Rift</td>\n",
       "      <td>Ranked (Draft Mode)</td>\n",
       "      <td>34.950000</td>\n",
       "      <td>victory</td>\n",
       "      <td>Caitlyn</td>\n",
       "      <td>12</td>\n",
       "      <td>5</td>\n",
       "      <td>9</td>\n",
       "      <td>180</td>\n",
       "      <td>15100</td>\n",
       "      <td>16</td>\n",
       "      <td>SummonerHeal</td>\n",
       "      <td>SummonerFlash</td>\n",
       "    </tr>\n",
       "    <tr>\n",
       "      <th>15</th>\n",
       "      <td>2020-07-04</td>\n",
       "      <td>Summoner's Rift</td>\n",
       "      <td>Ranked (Draft Mode)</td>\n",
       "      <td>41.033333</td>\n",
       "      <td>defeat</td>\n",
       "      <td>Aphelios</td>\n",
       "      <td>7</td>\n",
       "      <td>9</td>\n",
       "      <td>10</td>\n",
       "      <td>228</td>\n",
       "      <td>14200</td>\n",
       "      <td>16</td>\n",
       "      <td>SummonerHeal</td>\n",
       "      <td>SummonerFlash</td>\n",
       "    </tr>\n",
       "    <tr>\n",
       "      <th>16</th>\n",
       "      <td>2020-07-03</td>\n",
       "      <td>Summoner's Rift</td>\n",
       "      <td>Ranked (Draft Mode)</td>\n",
       "      <td>27.800000</td>\n",
       "      <td>defeat</td>\n",
       "      <td>Caitlyn</td>\n",
       "      <td>4</td>\n",
       "      <td>7</td>\n",
       "      <td>15</td>\n",
       "      <td>128</td>\n",
       "      <td>9200</td>\n",
       "      <td>13</td>\n",
       "      <td>SummonerHeal</td>\n",
       "      <td>SummonerFlash</td>\n",
       "    </tr>\n",
       "    <tr>\n",
       "      <th>17</th>\n",
       "      <td>2020-07-03</td>\n",
       "      <td>Summoner's Rift</td>\n",
       "      <td>Ranked (Draft Mode)</td>\n",
       "      <td>35.450000</td>\n",
       "      <td>victory</td>\n",
       "      <td>Xayah</td>\n",
       "      <td>8</td>\n",
       "      <td>5</td>\n",
       "      <td>7</td>\n",
       "      <td>260</td>\n",
       "      <td>15100</td>\n",
       "      <td>16</td>\n",
       "      <td>SummonerHeal</td>\n",
       "      <td>SummonerFlash</td>\n",
       "    </tr>\n",
       "  </tbody>\n",
       "</table>\n",
       "</div>"
      ],
      "text/plain": [
       "   match_date        match_map           match_mode  match_duration  \\\n",
       "2  2020-07-09  Summoner's Rift  Ranked (Draft Mode)       36.066667   \n",
       "14 2020-07-04  Summoner's Rift  Ranked (Draft Mode)       34.950000   \n",
       "15 2020-07-04  Summoner's Rift  Ranked (Draft Mode)       41.033333   \n",
       "16 2020-07-03  Summoner's Rift  Ranked (Draft Mode)       27.800000   \n",
       "17 2020-07-03  Summoner's Rift  Ranked (Draft Mode)       35.450000   \n",
       "\n",
       "   match_result champ_name  champ_kills  champ_deaths  champ_assists  \\\n",
       "2       victory      Xayah           12             4              4   \n",
       "14      victory    Caitlyn           12             5              9   \n",
       "15       defeat   Aphelios            7             9             10   \n",
       "16       defeat    Caitlyn            4             7             15   \n",
       "17      victory      Xayah            8             5              7   \n",
       "\n",
       "    champ_farm  champ_gold  champ_level champ_first_spell champ_second_spell  \n",
       "2          269       17400           16      SummonerHeal      SummonerFlash  \n",
       "14         180       15100           16      SummonerHeal      SummonerFlash  \n",
       "15         228       14200           16      SummonerHeal      SummonerFlash  \n",
       "16         128        9200           13      SummonerHeal      SummonerFlash  \n",
       "17         260       15100           16      SummonerHeal      SummonerFlash  "
      ]
     },
     "execution_count": 211,
     "metadata": {},
     "output_type": "execute_result"
    }
   ],
   "source": [
    "ranked_df.head()"
   ]
  },
  {
   "cell_type": "code",
   "execution_count": 212,
   "metadata": {},
   "outputs": [
    {
     "name": "stdout",
     "output_type": "stream",
     "text": [
      "Number of matches: 250\n"
     ]
    }
   ],
   "source": [
    "print(\"Number of matches: {}\".format(len(ranked_df)))"
   ]
  },
  {
   "cell_type": "markdown",
   "metadata": {},
   "source": [
    "### Getting only valid matches (when there is no early surrender)"
   ]
  },
  {
   "cell_type": "code",
   "execution_count": 213,
   "metadata": {},
   "outputs": [
    {
     "data": {
      "text/plain": [
       "victory           135\n",
       "defeat            108\n",
       "earlysurrender      7\n",
       "Name: match_result, dtype: int64"
      ]
     },
     "execution_count": 213,
     "metadata": {},
     "output_type": "execute_result"
    }
   ],
   "source": [
    "ranked_df.match_result.value_counts()"
   ]
  },
  {
   "cell_type": "code",
   "execution_count": 214,
   "metadata": {},
   "outputs": [],
   "source": [
    "valid_ranked_df = ranked_df[ranked_df.match_result != \"earlysurrender\"]"
   ]
  },
  {
   "cell_type": "code",
   "execution_count": 215,
   "metadata": {},
   "outputs": [
    {
     "data": {
      "text/html": [
       "<div>\n",
       "<style scoped>\n",
       "    .dataframe tbody tr th:only-of-type {\n",
       "        vertical-align: middle;\n",
       "    }\n",
       "\n",
       "    .dataframe tbody tr th {\n",
       "        vertical-align: top;\n",
       "    }\n",
       "\n",
       "    .dataframe thead th {\n",
       "        text-align: right;\n",
       "    }\n",
       "</style>\n",
       "<table border=\"1\" class=\"dataframe\">\n",
       "  <thead>\n",
       "    <tr style=\"text-align: right;\">\n",
       "      <th></th>\n",
       "      <th>match_date</th>\n",
       "      <th>match_map</th>\n",
       "      <th>match_mode</th>\n",
       "      <th>match_duration</th>\n",
       "      <th>match_result</th>\n",
       "      <th>champ_name</th>\n",
       "      <th>champ_kills</th>\n",
       "      <th>champ_deaths</th>\n",
       "      <th>champ_assists</th>\n",
       "      <th>champ_farm</th>\n",
       "      <th>champ_gold</th>\n",
       "      <th>champ_level</th>\n",
       "      <th>champ_first_spell</th>\n",
       "      <th>champ_second_spell</th>\n",
       "    </tr>\n",
       "  </thead>\n",
       "  <tbody>\n",
       "    <tr>\n",
       "      <th>2</th>\n",
       "      <td>2020-07-09</td>\n",
       "      <td>Summoner's Rift</td>\n",
       "      <td>Ranked (Draft Mode)</td>\n",
       "      <td>36.066667</td>\n",
       "      <td>victory</td>\n",
       "      <td>Xayah</td>\n",
       "      <td>12</td>\n",
       "      <td>4</td>\n",
       "      <td>4</td>\n",
       "      <td>269</td>\n",
       "      <td>17400</td>\n",
       "      <td>16</td>\n",
       "      <td>SummonerHeal</td>\n",
       "      <td>SummonerFlash</td>\n",
       "    </tr>\n",
       "    <tr>\n",
       "      <th>14</th>\n",
       "      <td>2020-07-04</td>\n",
       "      <td>Summoner's Rift</td>\n",
       "      <td>Ranked (Draft Mode)</td>\n",
       "      <td>34.950000</td>\n",
       "      <td>victory</td>\n",
       "      <td>Caitlyn</td>\n",
       "      <td>12</td>\n",
       "      <td>5</td>\n",
       "      <td>9</td>\n",
       "      <td>180</td>\n",
       "      <td>15100</td>\n",
       "      <td>16</td>\n",
       "      <td>SummonerHeal</td>\n",
       "      <td>SummonerFlash</td>\n",
       "    </tr>\n",
       "    <tr>\n",
       "      <th>15</th>\n",
       "      <td>2020-07-04</td>\n",
       "      <td>Summoner's Rift</td>\n",
       "      <td>Ranked (Draft Mode)</td>\n",
       "      <td>41.033333</td>\n",
       "      <td>defeat</td>\n",
       "      <td>Aphelios</td>\n",
       "      <td>7</td>\n",
       "      <td>9</td>\n",
       "      <td>10</td>\n",
       "      <td>228</td>\n",
       "      <td>14200</td>\n",
       "      <td>16</td>\n",
       "      <td>SummonerHeal</td>\n",
       "      <td>SummonerFlash</td>\n",
       "    </tr>\n",
       "    <tr>\n",
       "      <th>16</th>\n",
       "      <td>2020-07-03</td>\n",
       "      <td>Summoner's Rift</td>\n",
       "      <td>Ranked (Draft Mode)</td>\n",
       "      <td>27.800000</td>\n",
       "      <td>defeat</td>\n",
       "      <td>Caitlyn</td>\n",
       "      <td>4</td>\n",
       "      <td>7</td>\n",
       "      <td>15</td>\n",
       "      <td>128</td>\n",
       "      <td>9200</td>\n",
       "      <td>13</td>\n",
       "      <td>SummonerHeal</td>\n",
       "      <td>SummonerFlash</td>\n",
       "    </tr>\n",
       "    <tr>\n",
       "      <th>17</th>\n",
       "      <td>2020-07-03</td>\n",
       "      <td>Summoner's Rift</td>\n",
       "      <td>Ranked (Draft Mode)</td>\n",
       "      <td>35.450000</td>\n",
       "      <td>victory</td>\n",
       "      <td>Xayah</td>\n",
       "      <td>8</td>\n",
       "      <td>5</td>\n",
       "      <td>7</td>\n",
       "      <td>260</td>\n",
       "      <td>15100</td>\n",
       "      <td>16</td>\n",
       "      <td>SummonerHeal</td>\n",
       "      <td>SummonerFlash</td>\n",
       "    </tr>\n",
       "  </tbody>\n",
       "</table>\n",
       "</div>"
      ],
      "text/plain": [
       "   match_date        match_map           match_mode  match_duration  \\\n",
       "2  2020-07-09  Summoner's Rift  Ranked (Draft Mode)       36.066667   \n",
       "14 2020-07-04  Summoner's Rift  Ranked (Draft Mode)       34.950000   \n",
       "15 2020-07-04  Summoner's Rift  Ranked (Draft Mode)       41.033333   \n",
       "16 2020-07-03  Summoner's Rift  Ranked (Draft Mode)       27.800000   \n",
       "17 2020-07-03  Summoner's Rift  Ranked (Draft Mode)       35.450000   \n",
       "\n",
       "   match_result champ_name  champ_kills  champ_deaths  champ_assists  \\\n",
       "2       victory      Xayah           12             4              4   \n",
       "14      victory    Caitlyn           12             5              9   \n",
       "15       defeat   Aphelios            7             9             10   \n",
       "16       defeat    Caitlyn            4             7             15   \n",
       "17      victory      Xayah            8             5              7   \n",
       "\n",
       "    champ_farm  champ_gold  champ_level champ_first_spell champ_second_spell  \n",
       "2          269       17400           16      SummonerHeal      SummonerFlash  \n",
       "14         180       15100           16      SummonerHeal      SummonerFlash  \n",
       "15         228       14200           16      SummonerHeal      SummonerFlash  \n",
       "16         128        9200           13      SummonerHeal      SummonerFlash  \n",
       "17         260       15100           16      SummonerHeal      SummonerFlash  "
      ]
     },
     "execution_count": 215,
     "metadata": {},
     "output_type": "execute_result"
    }
   ],
   "source": [
    "valid_ranked_df.head()"
   ]
  },
  {
   "cell_type": "code",
   "execution_count": 216,
   "metadata": {},
   "outputs": [
    {
     "name": "stdout",
     "output_type": "stream",
     "text": [
      "Number of matches: 243\n"
     ]
    }
   ],
   "source": [
    "print(\"Number of matches: {}\".format(len(valid_ranked_df)))"
   ]
  },
  {
   "cell_type": "markdown",
   "metadata": {},
   "source": [
    "### Getting only ADC matches"
   ]
  },
  {
   "cell_type": "code",
   "execution_count": 217,
   "metadata": {},
   "outputs": [
    {
     "data": {
      "text/plain": [
       "Index(['Aphelios', 'Miss Fortune', 'Caitlyn', 'Xayah', 'Ezreal', 'Ashe',\n",
       "       'Thresh', 'Heimerdinger', 'Lucian', 'Jinx', 'Varus', 'Veigar', 'Kai'Sa',\n",
       "       'Syndra', 'Corki'],\n",
       "      dtype='object')"
      ]
     },
     "execution_count": 217,
     "metadata": {},
     "output_type": "execute_result"
    }
   ],
   "source": [
    "valid_ranked_df.champ_name.value_counts().index"
   ]
  },
  {
   "cell_type": "code",
   "execution_count": 218,
   "metadata": {},
   "outputs": [],
   "source": [
    "adc_played_champs = [\"Aphelios\", \"Miss Fortune\", \"Caitlyn\", \n",
    "                     \"Xayah\", \"Ezreal\", \"Ashe\", \"Lucian\", \n",
    "                     \"Jinx\", \"Varus\", \"Kai'Sa\", \"Syndra\"]"
   ]
  },
  {
   "cell_type": "code",
   "execution_count": 219,
   "metadata": {},
   "outputs": [],
   "source": [
    "adc_ranked_df = valid_ranked_df[valid_ranked_df.champ_name.isin(adc_played_champs)]"
   ]
  },
  {
   "cell_type": "code",
   "execution_count": 220,
   "metadata": {},
   "outputs": [
    {
     "data": {
      "text/html": [
       "<div>\n",
       "<style scoped>\n",
       "    .dataframe tbody tr th:only-of-type {\n",
       "        vertical-align: middle;\n",
       "    }\n",
       "\n",
       "    .dataframe tbody tr th {\n",
       "        vertical-align: top;\n",
       "    }\n",
       "\n",
       "    .dataframe thead th {\n",
       "        text-align: right;\n",
       "    }\n",
       "</style>\n",
       "<table border=\"1\" class=\"dataframe\">\n",
       "  <thead>\n",
       "    <tr style=\"text-align: right;\">\n",
       "      <th></th>\n",
       "      <th>match_date</th>\n",
       "      <th>match_map</th>\n",
       "      <th>match_mode</th>\n",
       "      <th>match_duration</th>\n",
       "      <th>match_result</th>\n",
       "      <th>champ_name</th>\n",
       "      <th>champ_kills</th>\n",
       "      <th>champ_deaths</th>\n",
       "      <th>champ_assists</th>\n",
       "      <th>champ_farm</th>\n",
       "      <th>champ_gold</th>\n",
       "      <th>champ_level</th>\n",
       "      <th>champ_first_spell</th>\n",
       "      <th>champ_second_spell</th>\n",
       "    </tr>\n",
       "  </thead>\n",
       "  <tbody>\n",
       "    <tr>\n",
       "      <th>2</th>\n",
       "      <td>2020-07-09</td>\n",
       "      <td>Summoner's Rift</td>\n",
       "      <td>Ranked (Draft Mode)</td>\n",
       "      <td>36.066667</td>\n",
       "      <td>victory</td>\n",
       "      <td>Xayah</td>\n",
       "      <td>12</td>\n",
       "      <td>4</td>\n",
       "      <td>4</td>\n",
       "      <td>269</td>\n",
       "      <td>17400</td>\n",
       "      <td>16</td>\n",
       "      <td>SummonerHeal</td>\n",
       "      <td>SummonerFlash</td>\n",
       "    </tr>\n",
       "    <tr>\n",
       "      <th>14</th>\n",
       "      <td>2020-07-04</td>\n",
       "      <td>Summoner's Rift</td>\n",
       "      <td>Ranked (Draft Mode)</td>\n",
       "      <td>34.950000</td>\n",
       "      <td>victory</td>\n",
       "      <td>Caitlyn</td>\n",
       "      <td>12</td>\n",
       "      <td>5</td>\n",
       "      <td>9</td>\n",
       "      <td>180</td>\n",
       "      <td>15100</td>\n",
       "      <td>16</td>\n",
       "      <td>SummonerHeal</td>\n",
       "      <td>SummonerFlash</td>\n",
       "    </tr>\n",
       "    <tr>\n",
       "      <th>15</th>\n",
       "      <td>2020-07-04</td>\n",
       "      <td>Summoner's Rift</td>\n",
       "      <td>Ranked (Draft Mode)</td>\n",
       "      <td>41.033333</td>\n",
       "      <td>defeat</td>\n",
       "      <td>Aphelios</td>\n",
       "      <td>7</td>\n",
       "      <td>9</td>\n",
       "      <td>10</td>\n",
       "      <td>228</td>\n",
       "      <td>14200</td>\n",
       "      <td>16</td>\n",
       "      <td>SummonerHeal</td>\n",
       "      <td>SummonerFlash</td>\n",
       "    </tr>\n",
       "    <tr>\n",
       "      <th>16</th>\n",
       "      <td>2020-07-03</td>\n",
       "      <td>Summoner's Rift</td>\n",
       "      <td>Ranked (Draft Mode)</td>\n",
       "      <td>27.800000</td>\n",
       "      <td>defeat</td>\n",
       "      <td>Caitlyn</td>\n",
       "      <td>4</td>\n",
       "      <td>7</td>\n",
       "      <td>15</td>\n",
       "      <td>128</td>\n",
       "      <td>9200</td>\n",
       "      <td>13</td>\n",
       "      <td>SummonerHeal</td>\n",
       "      <td>SummonerFlash</td>\n",
       "    </tr>\n",
       "    <tr>\n",
       "      <th>17</th>\n",
       "      <td>2020-07-03</td>\n",
       "      <td>Summoner's Rift</td>\n",
       "      <td>Ranked (Draft Mode)</td>\n",
       "      <td>35.450000</td>\n",
       "      <td>victory</td>\n",
       "      <td>Xayah</td>\n",
       "      <td>8</td>\n",
       "      <td>5</td>\n",
       "      <td>7</td>\n",
       "      <td>260</td>\n",
       "      <td>15100</td>\n",
       "      <td>16</td>\n",
       "      <td>SummonerHeal</td>\n",
       "      <td>SummonerFlash</td>\n",
       "    </tr>\n",
       "  </tbody>\n",
       "</table>\n",
       "</div>"
      ],
      "text/plain": [
       "   match_date        match_map           match_mode  match_duration  \\\n",
       "2  2020-07-09  Summoner's Rift  Ranked (Draft Mode)       36.066667   \n",
       "14 2020-07-04  Summoner's Rift  Ranked (Draft Mode)       34.950000   \n",
       "15 2020-07-04  Summoner's Rift  Ranked (Draft Mode)       41.033333   \n",
       "16 2020-07-03  Summoner's Rift  Ranked (Draft Mode)       27.800000   \n",
       "17 2020-07-03  Summoner's Rift  Ranked (Draft Mode)       35.450000   \n",
       "\n",
       "   match_result champ_name  champ_kills  champ_deaths  champ_assists  \\\n",
       "2       victory      Xayah           12             4              4   \n",
       "14      victory    Caitlyn           12             5              9   \n",
       "15       defeat   Aphelios            7             9             10   \n",
       "16       defeat    Caitlyn            4             7             15   \n",
       "17      victory      Xayah            8             5              7   \n",
       "\n",
       "    champ_farm  champ_gold  champ_level champ_first_spell champ_second_spell  \n",
       "2          269       17400           16      SummonerHeal      SummonerFlash  \n",
       "14         180       15100           16      SummonerHeal      SummonerFlash  \n",
       "15         228       14200           16      SummonerHeal      SummonerFlash  \n",
       "16         128        9200           13      SummonerHeal      SummonerFlash  \n",
       "17         260       15100           16      SummonerHeal      SummonerFlash  "
      ]
     },
     "execution_count": 220,
     "metadata": {},
     "output_type": "execute_result"
    }
   ],
   "source": [
    "adc_ranked_df.head()"
   ]
  },
  {
   "cell_type": "code",
   "execution_count": 221,
   "metadata": {},
   "outputs": [
    {
     "name": "stdout",
     "output_type": "stream",
     "text": [
      "Number of matches: 233\n"
     ]
    }
   ],
   "source": [
    "print(\"Number of matches: {}\".format(len(adc_ranked_df)))"
   ]
  },
  {
   "cell_type": "markdown",
   "metadata": {},
   "source": [
    "## Statistics"
   ]
  },
  {
   "cell_type": "markdown",
   "metadata": {},
   "source": [
    "Texto sobre"
   ]
  },
  {
   "cell_type": "markdown",
   "metadata": {},
   "source": [
    "### Main KDA stats"
   ]
  },
  {
   "cell_type": "code",
   "execution_count": 222,
   "metadata": {},
   "outputs": [
    {
     "data": {
      "text/plain": [
       "(6.618025751072961, 4.600858369098712, 7.639484978540772)"
      ]
     },
     "execution_count": 222,
     "metadata": {},
     "output_type": "execute_result"
    }
   ],
   "source": [
    "np.mean(adc_ranked_df.champ_kills), np.mean(adc_ranked_df.champ_deaths), np.mean(adc_ranked_df.champ_assists)"
   ]
  },
  {
   "cell_type": "markdown",
   "metadata": {},
   "source": [
    "### Farm per minute stats"
   ]
  },
  {
   "cell_type": "code",
   "execution_count": 223,
   "metadata": {},
   "outputs": [
    {
     "data": {
      "text/plain": [
       "6.292555313310706"
      ]
     },
     "execution_count": 223,
     "metadata": {},
     "output_type": "execute_result"
    }
   ],
   "source": [
    "np.mean(adc_ranked_df.champ_farm/adc_ranked_df.match_duration)"
   ]
  },
  {
   "cell_type": "markdown",
   "metadata": {},
   "source": [
    "### Winrate stats"
   ]
  },
  {
   "cell_type": "code",
   "execution_count": 224,
   "metadata": {},
   "outputs": [
    {
     "data": {
      "text/plain": [
       "55.36480686695279"
      ]
     },
     "execution_count": 224,
     "metadata": {},
     "output_type": "execute_result"
    }
   ],
   "source": [
    "adc_ranked_df.match_result.value_counts()[\"victory\"]*100/len(adc_ranked_df.match_result)"
   ]
  },
  {
   "cell_type": "markdown",
   "metadata": {},
   "source": [
    "### Gold stats"
   ]
  },
  {
   "cell_type": "code",
   "execution_count": 385,
   "metadata": {},
   "outputs": [
    {
     "data": {
      "text/plain": [
       "388.85158340172717"
      ]
     },
     "execution_count": 385,
     "metadata": {},
     "output_type": "execute_result"
    }
   ],
   "source": [
    "np.mean(adc_ranked_df.champ_gold/adc_ranked_df.match_duration)"
   ]
  },
  {
   "cell_type": "markdown",
   "metadata": {},
   "source": [
    "## Most Played Champions"
   ]
  },
  {
   "cell_type": "code",
   "execution_count": 225,
   "metadata": {},
   "outputs": [
    {
     "data": {
      "text/plain": [
       "Aphelios        73\n",
       "Miss Fortune    64\n",
       "Caitlyn         55\n",
       "Name: champ_name, dtype: int64"
      ]
     },
     "execution_count": 225,
     "metadata": {},
     "output_type": "execute_result"
    }
   ],
   "source": [
    "adc_ranked_df.champ_name.value_counts()[:3]"
   ]
  },
  {
   "cell_type": "markdown",
   "metadata": {},
   "source": [
    "### Statistics on each of the Top 3 champions"
   ]
  },
  {
   "cell_type": "markdown",
   "metadata": {},
   "source": [
    "### Miss Fortune"
   ]
  },
  {
   "cell_type": "code",
   "execution_count": 226,
   "metadata": {},
   "outputs": [],
   "source": [
    "mf_df = adc_ranked_df[adc_ranked_df.champ_name == \"Miss Fortune\"]"
   ]
  },
  {
   "cell_type": "markdown",
   "metadata": {},
   "source": [
    "#### KDA"
   ]
  },
  {
   "cell_type": "code",
   "execution_count": 227,
   "metadata": {},
   "outputs": [
    {
     "data": {
      "text/plain": [
       "(7.484375, 4.203125, 7.5)"
      ]
     },
     "execution_count": 227,
     "metadata": {},
     "output_type": "execute_result"
    }
   ],
   "source": [
    "np.mean(mf_df.champ_kills), np.mean(mf_df.champ_deaths), np.mean(mf_df.champ_assists)"
   ]
  },
  {
   "cell_type": "markdown",
   "metadata": {},
   "source": [
    "#### Pickrate"
   ]
  },
  {
   "cell_type": "code",
   "execution_count": 228,
   "metadata": {},
   "outputs": [
    {
     "data": {
      "text/plain": [
       "27.467811158798284"
      ]
     },
     "execution_count": 228,
     "metadata": {},
     "output_type": "execute_result"
    }
   ],
   "source": [
    "len(mf_df)*100/len(adc_ranked_df)"
   ]
  },
  {
   "cell_type": "markdown",
   "metadata": {},
   "source": [
    "#### Winrate"
   ]
  },
  {
   "cell_type": "code",
   "execution_count": 229,
   "metadata": {},
   "outputs": [
    {
     "data": {
      "text/plain": [
       "67.1875"
      ]
     },
     "execution_count": 229,
     "metadata": {},
     "output_type": "execute_result"
    }
   ],
   "source": [
    "mf_df.match_result.value_counts()[\"victory\"]*100/len(mf_df.match_result)"
   ]
  },
  {
   "cell_type": "markdown",
   "metadata": {},
   "source": [
    "### Aphelios"
   ]
  },
  {
   "cell_type": "code",
   "execution_count": 230,
   "metadata": {},
   "outputs": [],
   "source": [
    "aphe_df = adc_ranked_df[adc_ranked_df.champ_name == \"Aphelios\"]"
   ]
  },
  {
   "cell_type": "markdown",
   "metadata": {},
   "source": [
    "#### KDA"
   ]
  },
  {
   "cell_type": "code",
   "execution_count": 231,
   "metadata": {},
   "outputs": [
    {
     "data": {
      "text/plain": [
       "(6.082191780821918, 4.931506849315069, 7.534246575342466)"
      ]
     },
     "execution_count": 231,
     "metadata": {},
     "output_type": "execute_result"
    }
   ],
   "source": [
    "np.mean(aphe_df.champ_kills), np.mean(aphe_df.champ_deaths), np.mean(aphe_df.champ_assists)"
   ]
  },
  {
   "cell_type": "markdown",
   "metadata": {},
   "source": [
    "#### Pickrate"
   ]
  },
  {
   "cell_type": "code",
   "execution_count": 232,
   "metadata": {},
   "outputs": [
    {
     "data": {
      "text/plain": [
       "31.330472103004293"
      ]
     },
     "execution_count": 232,
     "metadata": {},
     "output_type": "execute_result"
    }
   ],
   "source": [
    "len(aphe_df)*100/len(adc_ranked_df)"
   ]
  },
  {
   "cell_type": "markdown",
   "metadata": {},
   "source": [
    "#### Winrate"
   ]
  },
  {
   "cell_type": "code",
   "execution_count": 233,
   "metadata": {},
   "outputs": [
    {
     "data": {
      "text/plain": [
       "49.31506849315068"
      ]
     },
     "execution_count": 233,
     "metadata": {},
     "output_type": "execute_result"
    }
   ],
   "source": [
    "aphe_df.match_result.value_counts()[\"victory\"]*100/len(aphe_df.match_result)"
   ]
  },
  {
   "cell_type": "markdown",
   "metadata": {},
   "source": [
    "### Caitlyn"
   ]
  },
  {
   "cell_type": "code",
   "execution_count": 234,
   "metadata": {},
   "outputs": [],
   "source": [
    "cait_df = adc_ranked_df[adc_ranked_df.champ_name == \"Caitlyn\"]"
   ]
  },
  {
   "cell_type": "markdown",
   "metadata": {},
   "source": [
    "#### KDA"
   ]
  },
  {
   "cell_type": "code",
   "execution_count": 235,
   "metadata": {},
   "outputs": [
    {
     "data": {
      "text/plain": [
       "(7.218181818181818, 4.3090909090909095, 7.963636363636364)"
      ]
     },
     "execution_count": 235,
     "metadata": {},
     "output_type": "execute_result"
    }
   ],
   "source": [
    "np.mean(cait_df.champ_kills), np.mean(cait_df.champ_deaths), np.mean(cait_df.champ_assists)"
   ]
  },
  {
   "cell_type": "markdown",
   "metadata": {},
   "source": [
    "#### Pickrate"
   ]
  },
  {
   "cell_type": "code",
   "execution_count": 236,
   "metadata": {},
   "outputs": [
    {
     "data": {
      "text/plain": [
       "23.605150214592275"
      ]
     },
     "execution_count": 236,
     "metadata": {},
     "output_type": "execute_result"
    }
   ],
   "source": [
    "len(cait_df)*100/len(adc_ranked_df)"
   ]
  },
  {
   "cell_type": "markdown",
   "metadata": {},
   "source": [
    "#### Winrate"
   ]
  },
  {
   "cell_type": "code",
   "execution_count": 237,
   "metadata": {},
   "outputs": [
    {
     "data": {
      "text/plain": [
       "52.72727272727273"
      ]
     },
     "execution_count": 237,
     "metadata": {},
     "output_type": "execute_result"
    }
   ],
   "source": [
    "cait_df.match_result.value_counts()[\"victory\"]*100/len(cait_df.match_result)"
   ]
  },
  {
   "cell_type": "markdown",
   "metadata": {},
   "source": [
    "## Plotting monthly growth"
   ]
  },
  {
   "cell_type": "markdown",
   "metadata": {},
   "source": [
    "#### Monthly DataFrames"
   ]
  },
  {
   "cell_type": "code",
   "execution_count": 295,
   "metadata": {},
   "outputs": [],
   "source": [
    "march_df = adc_ranked_df[adc_ranked_df.match_date.dt.month == 3]"
   ]
  },
  {
   "cell_type": "code",
   "execution_count": 296,
   "metadata": {},
   "outputs": [],
   "source": [
    "april_df = adc_ranked_df[adc_ranked_df.match_date.dt.month == 4]"
   ]
  },
  {
   "cell_type": "code",
   "execution_count": 297,
   "metadata": {},
   "outputs": [],
   "source": [
    "may_df = adc_ranked_df[adc_ranked_df.match_date.dt.month == 5]"
   ]
  },
  {
   "cell_type": "code",
   "execution_count": 298,
   "metadata": {},
   "outputs": [],
   "source": [
    "june_df = adc_ranked_df[adc_ranked_df.match_date.dt.month == 6]"
   ]
  },
  {
   "cell_type": "code",
   "execution_count": 299,
   "metadata": {},
   "outputs": [],
   "source": [
    "july_df = adc_ranked_df[adc_ranked_df.match_date.dt.month == 7]"
   ]
  },
  {
   "cell_type": "code",
   "execution_count": 329,
   "metadata": {},
   "outputs": [],
   "source": [
    "month_list = [march_df, april_df, may_df, june_df, july_df]\n",
    "month_name_list = [\"March\", \"April\", \"May\", \"June\", \"July\"]"
   ]
  },
  {
   "cell_type": "markdown",
   "metadata": {},
   "source": [
    "### Farm"
   ]
  },
  {
   "cell_type": "markdown",
   "metadata": {},
   "source": [
    "#### Farm stats per month"
   ]
  },
  {
   "cell_type": "code",
   "execution_count": 312,
   "metadata": {},
   "outputs": [],
   "source": [
    "def get_farm_by_month_df(month_df_list):\n",
    "    results = []\n",
    "    for month_df in month_df_list:\n",
    "        result = np.mean(month_df.champ_farm/month_df.match_duration)\n",
    "        results.append(result)\n",
    "    return results"
   ]
  },
  {
   "cell_type": "code",
   "execution_count": 319,
   "metadata": {},
   "outputs": [],
   "source": [
    "farm_list = get_farm_by_month_df(month_list)"
   ]
  },
  {
   "cell_type": "markdown",
   "metadata": {},
   "source": [
    "#### Plot"
   ]
  },
  {
   "cell_type": "code",
   "execution_count": 380,
   "metadata": {},
   "outputs": [
    {
     "data": {
      "image/png": "[encoded data removed]",
      "text/plain": [
       "<Figure size 648x201.6 with 1 Axes>"
      ]
     },
     "metadata": {},
     "output_type": "display_data"
    }
   ],
   "source": [
    "fig, ax = plt.subplots(figsize=(9,2.8))\n",
    "ax.text(\"March\", 6.29, str(farm_list[0])[:4], rotation=45, fontsize=16, color='white')\n",
    "ax.text(\"April\", 6.40, str(farm_list[1])[:4], rotation=45, fontsize=16, color='white')\n",
    "ax.text(\"May\", 6.43, str(farm_list[2])[:4], rotation=45, fontsize=16, color='white')\n",
    "ax.text(\"June\", 6.20, str(farm_list[3])[:4], rotation=45, fontsize=16, color='white')\n",
    "ax.text(\"July\", 5.95, str(farm_list[4])[:4], rotation=45, fontsize=16, color='white')\n",
    "ax.patch.set_visible(False)\n",
    "ax.axes.get_yaxis().set_visible(False)\n",
    "\n",
    "ax.spines['top'].set_visible(False)\n",
    "ax.spines['right'].set_visible(False)\n",
    "ax.spines['left'].set_visible(False)\n",
    "\n",
    "for label in (ax.get_xticklabels()):\n",
    "    label.set_fontsize(16)\n",
    "    label.set_color(\"white\")\n",
    "    \n",
    "for tick in ax.axes.get_yticklines():\n",
    "    tick.set_visible(False)\n",
    "\n",
    "ax.set_ylim(5.85, 6.5)\n",
    "    \n",
    "ax.plot(month_name_list, farm_list, color=\"#c9ab6e\", linewidth=4, marker='o', markersize=9)\n",
    "plt.savefig('demo.png', transparent=True)"
   ]
  },
  {
   "cell_type": "markdown",
   "metadata": {},
   "source": [
    "### Winrate"
   ]
  },
  {
   "cell_type": "markdown",
   "metadata": {},
   "source": [
    "#### Winrate stats per month"
   ]
  },
  {
   "cell_type": "code",
   "execution_count": 381,
   "metadata": {},
   "outputs": [],
   "source": [
    "def get_winrate_by_month_df(month_df_list):\n",
    "    results = []\n",
    "    for month_df in month_df_list:\n",
    "        result = month_df.match_result.value_counts()[\"victory\"]*100/len(month_df.match_result)\n",
    "        results.append(result)\n",
    "    return results"
   ]
  },
  {
   "cell_type": "code",
   "execution_count": 382,
   "metadata": {},
   "outputs": [],
   "source": [
    "winrate_list = get_winrate_by_month_df(month_list)"
   ]
  },
  {
   "cell_type": "markdown",
   "metadata": {},
   "source": [
    "#### Plot"
   ]
  },
  {
   "cell_type": "code",
   "execution_count": 384,
   "metadata": {},
   "outputs": [
    {
     "data": {
      "image/png": "[encoded data removed]",
      "text/plain": [
       "<Figure size 648x201.6 with 1 Axes>"
      ]
     },
     "metadata": {},
     "output_type": "display_data"
    }
   ],
   "source": [
    "fig, ax = plt.subplots(figsize=(9,2.8))\n",
    "ax.text(\"March\", 56.1, str(winrate_list[0])[:4], rotation=45, fontsize=16, color='white')\n",
    "ax.text(\"April\", 60.0, str(winrate_list[1])[:4], rotation=45, fontsize=16, color='white')\n",
    "ax.text(\"May\", 48.0, str(winrate_list[2])[:4], rotation=45, fontsize=16, color='white')\n",
    "ax.text(\"June\", 46.1, str(winrate_list[3])[:4], rotation=45, fontsize=16, color='white')\n",
    "ax.text(\"July\", 54.1, str(winrate_list[4])[:4], rotation=45, fontsize=16, color='white')\n",
    "ax.patch.set_visible(False)\n",
    "ax.axes.get_yaxis().set_visible(False)\n",
    "\n",
    "ax.spines['top'].set_visible(False)\n",
    "ax.spines['right'].set_visible(False)\n",
    "ax.spines['left'].set_visible(False)\n",
    "\n",
    "for label in (ax.get_xticklabels()):\n",
    "    label.set_fontsize(16)\n",
    "    label.set_color(\"white\")\n",
    "\n",
    "ax.set_ylim(44.5, 60.5)\n",
    "    \n",
    "ax.plot(month_name_list, winrate_list, color=\"#c9ab6e\", linewidth=4, marker='o', markersize=9)\n",
    "plt.savefig('demo2.png', transparent=True)"
   ]
  }
 ],
 "metadata": {
  "kernelspec": {
   "display_name": "Python 3",
   "language": "python",
   "name": "python3"
  },
  "language_info": {
   "codemirror_mode": {
    "name": "ipython",
    "version": 3
   },
   "file_extension": ".py",
   "mimetype": "text/x-python",
   "name": "python",
   "nbconvert_exporter": "python",
   "pygments_lexer": "ipython3",
   "version": "3.7.6"
  }
 },
 "nbformat": 4,
 "nbformat_minor": 4
}
